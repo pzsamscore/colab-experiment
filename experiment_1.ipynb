{
  "nbformat": 4,
  "nbformat_minor": 0,
  "metadata": {
    "colab": {
      "provenance": [],
      "authorship_tag": "ABX9TyMyoBRGw2lUZvouM1i4b4jA",
      "include_colab_link": true
    },
    "kernelspec": {
      "name": "python3",
      "display_name": "Python 3"
    },
    "language_info": {
      "name": "python"
    }
  },
  "cells": [
    {
      "cell_type": "markdown",
      "metadata": {
        "id": "view-in-github",
        "colab_type": "text"
      },
      "source": [
        "<a href=\"https://colab.research.google.com/github/pzsamscore/colab-experiment/blob/main/experiment_1.ipynb\" target=\"_parent\"><img src=\"https://colab.research.google.com/assets/colab-badge.svg\" alt=\"Open In Colab\"/></a>"
      ]
    },
    {
      "cell_type": "markdown",
      "source": [
        "## Ingest"
      ],
      "metadata": {
        "id": "wjJ02-F8b1Ol"
      }
    },
    {
      "cell_type": "code",
      "source": [
        "import pandas as pd\n",
        "import numpy as np"
      ],
      "metadata": {
        "id": "JIbBSEs5b9kc"
      },
      "execution_count": null,
      "outputs": []
    },
    {
      "cell_type": "markdown",
      "source": [
        "## EDA"
      ],
      "metadata": {
        "id": "Y-5MdZQhbyxT"
      }
    },
    {
      "cell_type": "code",
      "source": [],
      "metadata": {
        "id": "l6EUfIBwb5GT"
      },
      "execution_count": null,
      "outputs": []
    },
    {
      "cell_type": "markdown",
      "source": [
        "## Modeling"
      ],
      "metadata": {
        "id": "fWSTaQN-b5yi"
      }
    },
    {
      "cell_type": "code",
      "source": [],
      "metadata": {
        "id": "5zq6euHab7ID"
      },
      "execution_count": null,
      "outputs": []
    },
    {
      "cell_type": "markdown",
      "source": [
        "## Conclusion"
      ],
      "metadata": {
        "id": "wXwxjwAEb7oo"
      }
    },
    {
      "cell_type": "code",
      "source": [],
      "metadata": {
        "id": "a5d9jiyNb8_T"
      },
      "execution_count": null,
      "outputs": []
    }
  ]
}